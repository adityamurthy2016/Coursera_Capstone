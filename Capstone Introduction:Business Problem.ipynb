{
 "cells": [
  {
   "cell_type": "markdown",
   "metadata": {},
   "source": [
    "# Problem:"
   ]
  },
  {
   "cell_type": "markdown",
   "metadata": {},
   "source": [
    "### Many online real estate companies do not factor in neighborhood amenities into their filters  \n",
    "### For example, if someone were to buy a home and they wanted asian restaurants nearby they would have to explore various neighborhoods on their own to find out which neighborhood would have the most asian restaurants."
   ]
  },
  {
   "cell_type": "markdown",
   "metadata": {},
   "source": [
    "# Solution:"
   ]
  },
  {
   "cell_type": "markdown",
   "metadata": {},
   "source": [
    "### My program will utilize foursquare to make a dataframe of venues in the various neighborhoods of <b>San Francisco<b/>.\n",
    "### Based on that, I can can create a recommender system that will match a user's input to recommend which neighborhood suits them best for the preferred venues they have selected."
   ]
  },
  {
   "cell_type": "markdown",
   "metadata": {},
   "source": []
  }
 ],
 "metadata": {
  "interpreter": {
   "hash": "a52d2cebf3a16486f1c3f31cc475d5a33e07766f685f512375c33cf7db878efe"
  },
  "kernelspec": {
   "display_name": "Python 3.8.8 64-bit ('base': conda)",
   "name": "python3"
  },
  "language_info": {
   "name": "python",
   "version": ""
  },
  "orig_nbformat": 4
 },
 "nbformat": 4,
 "nbformat_minor": 2
}